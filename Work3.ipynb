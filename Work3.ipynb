{
  "nbformat": 4,
  "nbformat_minor": 0,
  "metadata": {
    "colab": {
      "provenance": [],
      "authorship_tag": "ABX9TyMe9kozfqrb+5YXnugrvkPH",
      "include_colab_link": true
    },
    "kernelspec": {
      "name": "python3",
      "display_name": "Python 3"
    },
    "language_info": {
      "name": "python"
    }
  },
  "cells": [
    {
      "cell_type": "markdown",
      "metadata": {
        "id": "view-in-github",
        "colab_type": "text"
      },
      "source": [
        "<a href=\"https://colab.research.google.com/github/Thabea2/Mukankusi_25011772/blob/main/Work3.ipynb\" target=\"_parent\"><img src=\"https://colab.research.google.com/assets/colab-badge.svg\" alt=\"Open In Colab\"/></a>"
      ]
    },
    {
      "cell_type": "code",
      "execution_count": 20,
      "metadata": {
        "colab": {
          "base_uri": "https://localhost:8080/"
        },
        "id": "78I9H2TeCOYR",
        "outputId": "5de9cc66-89fc-48e9-ab9f-040b7a181f36"
      },
      "outputs": [
        {
          "output_type": "stream",
          "name": "stdout",
          "text": [
            "   Email_ID                                      content  is_phishing\n",
            "0         1           Don't forget our meeting at 10 AM.        False\n",
            "1         2           Get 20% off on your next purchase!        False\n",
            "2         3  You are invited for an interview on Friday.        False\n",
            "3         4                    Got it! See you at 10 AM.        False\n",
            "4         5           Click here to reset your password.        False\n",
            "Index(['Email_ID', 'content', 'is_phishing'], dtype='object')\n",
            "Phishing detection complete. ✅\n"
          ]
        }
      ],
      "source": [
        "import pandas as pd\n",
        "df = pd.read_csv('/content/25011772.csv')\n",
        "print(df.head())\n",
        "# Define phishing keywords\n",
        "phishing_keywords = [\"urgent\", \"password reset\", \"bank\", \"verify\", \"account suspended\"]\n",
        "\n",
        "# Load the dataset (upload file)\n",
        "emails = pd.read_csv(\"/content/25011772.csv\")\n",
        "\n",
        "# Check the columns of the dataset to find the correct column name\n",
        "print(emails.columns)\n",
        "\n",
        "# Make sure to use the correct column name for email content\n",
        "if 'content' in emails.columns:\n",
        "    # Apply phishing detection\n",
        "    emails[\"is_phishing\"] = emails[\"content\"].apply(\n",
        "        lambda X: any(keyword in str(X).lower() for keyword in phishing_keywords)\n",
        "    )\n",
        "\n",
        "    # Save the processed file\n",
        "    emails.to_csv(\"/content/25011772.csv\", index=False)\n",
        "    print(\"Phishing detection complete. ✅\")\n",
        "else:\n",
        "    print(\"Error: The 'content' column is missing from the dataset.\")\n",
        ""
      ]
    },
    {
      "cell_type": "code",
      "source": [],
      "metadata": {
        "id": "zr9-hE3xaDqA"
      },
      "execution_count": null,
      "outputs": []
    }
  ]
}