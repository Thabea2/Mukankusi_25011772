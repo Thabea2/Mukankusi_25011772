{
  "nbformat": 4,
  "nbformat_minor": 0,
  "metadata": {
    "colab": {
      "provenance": [],
      "authorship_tag": "ABX9TyP7ablGYc3xoZyBZh5wTStI",
      "include_colab_link": true
    },
    "kernelspec": {
      "name": "python3",
      "display_name": "Python 3"
    },
    "language_info": {
      "name": "python"
    }
  },
  "cells": [
    {
      "cell_type": "markdown",
      "metadata": {
        "id": "view-in-github",
        "colab_type": "text"
      },
      "source": [
        "<a href=\"https://colab.research.google.com/github/Thabea2/Mukankusi_25011772/blob/main/Detective_Hate_Speech.ipynb\" target=\"_parent\"><img src=\"https://colab.research.google.com/assets/colab-badge.svg\" alt=\"Open In Colab\"/></a>"
      ]
    },
    {
      "cell_type": "code",
      "execution_count": 9,
      "metadata": {
        "colab": {
          "base_uri": "https://localhost:8080/"
        },
        "id": "HaH2VpDGRh7v",
        "outputId": "3e0cd7f0-f5b7-430a-e30d-9a74f283cd7b"
      },
      "outputs": [
        {
          "output_type": "stream",
          "name": "stdout",
          "text": [
            "Hate speech detected! Offensive words: ['cockroaches', 'kill', 'exterminate', 'tutsi']\n"
          ]
        }
      ],
      "source": [
        "# Test with Real Data\n",
        "\n",
        "offensive_words = [\"inyenzi\",\"cockroaches\",\"kill\",\"exterminate\",\"destroy\",\"traitors\",\"snakes\",\"rats\",\"hutu power\",\"tutsi\",\"ethnic cleansing\",\"wipe out\",\"enemy\",\"revenge\",\"impurity\",\"traitors\",\"infiltrators\",\"parasites\"]\n",
        "\n",
        "# Function to detect hate speech\n",
        "def detect_hate_speech(speech):\n",
        "    detected_words = [word for word in offensive_words if word in speech.lower()]\n",
        "    return detected_words\n",
        "\n",
        "# Example usage\n",
        "speech = \"The Tutsis are like cockroaches, they must be exterminated, they must be killed, and we, the Hutus, will be the ones to do it. We must carry out our revolution, and the revolution is to eliminate the Tutsi. If we do not kill them, they will kill us. .\"\n",
        "hate_words = detect_hate_speech(speech)\n",
        "if hate_words:\n",
        "    print(\"Hate speech detected! Offensive words:\", hate_words)\n",
        "else:\n",
        "    print(\"No hate speech detected.\")"
      ]
    }
  ]
}