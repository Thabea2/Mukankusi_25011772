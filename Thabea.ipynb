{
  "nbformat": 4,
  "nbformat_minor": 0,
  "metadata": {
    "colab": {
      "provenance": [],
      "authorship_tag": "ABX9TyOXKANoQNMM/TqxfxOlkXcp",
      "include_colab_link": true
    },
    "kernelspec": {
      "name": "python3",
      "display_name": "Python 3"
    },
    "language_info": {
      "name": "python"
    }
  },
  "cells": [
    {
      "cell_type": "markdown",
      "metadata": {
        "id": "view-in-github",
        "colab_type": "text"
      },
      "source": [
        "<a href=\"https://colab.research.google.com/github/Thabea2/Mukankusi_25011772/blob/main/Thabea.ipynb\" target=\"_parent\"><img src=\"https://colab.research.google.com/assets/colab-badge.svg\" alt=\"Open In Colab\"/></a>"
      ]
    },
    {
      "cell_type": "code",
      "execution_count": 5,
      "metadata": {
        "colab": {
          "base_uri": "https://localhost:8080/"
        },
        "id": "FuJ4P5pJFYR7",
        "outputId": "988b7d48-3a2b-4400-d176-d1af4ab2fa0b"
      },
      "outputs": [
        {
          "output_type": "stream",
          "name": "stdout",
          "text": [
            "None\n"
          ]
        }
      ],
      "source": [
        "import requests\n",
        "\n",
        "def check_sql_injection(url):\n",
        "  payload = \"' OR '1'='1\"\n",
        "#sending request\n",
        "  response = requests.get(url + payload)\n",
        "#checking responses\n",
        "  if \" error\" in response.text.lower():\n",
        "\n",
        "    return \"Potential SQL Injection vulnerability found!\"\n",
        "\n",
        "    return \"Np SQL Injection vulnerability detected.\"\n",
        "\n",
        "# Example usage you can use yours\n",
        "url = \"https://juice-shop.herokuapp.com/#/\"\n",
        "results = check_sql_injection(url)\n",
        "print(results)\n",
        "\n"
      ]
    },
    {
      "cell_type": "code",
      "source": [],
      "metadata": {
        "id": "A9SBVxqukieF"
      },
      "execution_count": null,
      "outputs": []
    }
  ]
}