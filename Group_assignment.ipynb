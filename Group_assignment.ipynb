{
  "nbformat": 4,
  "nbformat_minor": 0,
  "metadata": {
    "colab": {
      "provenance": [],
      "authorship_tag": "ABX9TyNxlKecyeUrSHwNHrYzYaqL",
      "include_colab_link": true
    },
    "kernelspec": {
      "name": "python3",
      "display_name": "Python 3"
    },
    "language_info": {
      "name": "python"
    }
  },
  "cells": [
    {
      "cell_type": "markdown",
      "metadata": {
        "id": "view-in-github",
        "colab_type": "text"
      },
      "source": [
        "<a href=\"https://colab.research.google.com/github/Thabea2/Mukankusi_25011772/blob/main/Group_assignment.ipynb\" target=\"_parent\"><img src=\"https://colab.research.google.com/assets/colab-badge.svg\" alt=\"Open In Colab\"/></a>"
      ]
    },
    {
      "cell_type": "code",
      "execution_count": null,
      "metadata": {
        "colab": {
          "base_uri": "https://localhost:8080/"
        },
        "id": "FuJ4P5pJFYR7",
        "outputId": "d7c27525-2f11-4d47-99bc-22153d977660"
      },
      "outputs": [
        {
          "output_type": "stream",
          "name": "stdout",
          "text": [
            "Potential SQL Injection vulnerability found!\n"
          ]
        }
      ],
      "source": []
    },
    {
      "cell_type": "code",
      "source": [
        "import requests\n",
        "\n",
        "def check_sql_injection(url):\n",
        "  payload = \"' OR '1'='1\"\n",
        "#sending request\n",
        "  response = requests.get(url + payload)\n",
        "#checking responses\n",
        "  if \" error\" in response.text.lower():\n",
        "\n",
        "    return \"Connection error or request blocked for payload!\"\n",
        "    return \"No SQL Injection vulnerability detected.\"\n",
        "\n",
        "# Example usage you can use yours\n",
        "url = \"https://juice-shop.herokuapp.com/#/\"\n",
        "results = check_sql_injection(url)\n",
        "print(results)\n",
        "print(\"Connection error or request blocked for payload\")\n",
        "print(\"Possible Web Appliaction Firewall(WAF) detected!\")\n",
        "print(\"Possible Time-based SQL Injection detected with payload\")\n",
        "print(\"SQL Injection detected with payload\")\n",
        "print(\"No SQL Injection vulnerability detected\")\n",
        "\n"
      ],
      "metadata": {
        "id": "A9SBVxqukieF",
        "colab": {
          "base_uri": "https://localhost:8080/"
        },
        "outputId": "254ea1bf-2806-4ba5-8b0c-a89c8e59c861"
      },
      "execution_count": 8,
      "outputs": [
        {
          "output_type": "stream",
          "name": "stdout",
          "text": [
            "None\n",
            "Connection error or request blocked for payload\n",
            "Possible Web Appliaction Firewall(WAF) detected!\n",
            "Possible Time-based SQL Injection detected with payload\n",
            "SQL Injection detected with payload\n",
            "No SQL Injection vulnerability detected\n"
          ]
        }
      ]
    }
  ]
}